{
  "nbformat": 4,
  "nbformat_minor": 0,
  "metadata": {
    "colab": {
      "provenance": [],
      "authorship_tag": "ABX9TyMaz2+51cbSzAaxkvJs1mEb",
      "include_colab_link": true
    },
    "kernelspec": {
      "name": "python3",
      "display_name": "Python 3"
    },
    "language_info": {
      "name": "python"
    }
  },
  "cells": [
    {
      "cell_type": "markdown",
      "metadata": {
        "id": "view-in-github",
        "colab_type": "text"
      },
      "source": [
        "<a href=\"https://colab.research.google.com/github/Ishhha/NLP/blob/main/NLP_tutorial_1.ipynb\" target=\"_parent\"><img src=\"https://colab.research.google.com/assets/colab-badge.svg\" alt=\"Open In Colab\"/></a>"
      ]
    },
    {
      "cell_type": "code",
      "execution_count": 1,
      "metadata": {
        "colab": {
          "base_uri": "https://localhost:8080/"
        },
        "id": "prwS6NJTIQyu",
        "outputId": "d47508d5-a0ee-4fef-f9db-732332a55842"
      },
      "outputs": [
        {
          "output_type": "stream",
          "name": "stdout",
          "text": [
            "Requirement already satisfied: nltk in /usr/local/lib/python3.12/dist-packages (3.9.1)\n",
            "Requirement already satisfied: click in /usr/local/lib/python3.12/dist-packages (from nltk) (8.3.0)\n",
            "Requirement already satisfied: joblib in /usr/local/lib/python3.12/dist-packages (from nltk) (1.5.2)\n",
            "Requirement already satisfied: regex>=2021.8.3 in /usr/local/lib/python3.12/dist-packages (from nltk) (2024.11.6)\n",
            "Requirement already satisfied: tqdm in /usr/local/lib/python3.12/dist-packages (from nltk) (4.67.1)\n"
          ]
        }
      ],
      "source": [
        "!pip install nltk"
      ]
    },
    {
      "cell_type": "code",
      "source": [
        "corpus = \"\"\"\n",
        "Hello, welcome to my Queendom! I am Pricess Isha Agarwal :). The most beloved princess in the world. Today I am learning a new skill which is NLP. Do you want to learn with me?\n",
        "\"\"\""
      ],
      "metadata": {
        "id": "K27eZ_bVIpw2"
      },
      "execution_count": 22,
      "outputs": []
    },
    {
      "cell_type": "code",
      "source": [
        "print(corpus)"
      ],
      "metadata": {
        "colab": {
          "base_uri": "https://localhost:8080/"
        },
        "id": "CAtxtFojIqBk",
        "outputId": "a71edb6b-480e-4c3d-fa4d-03046a4398e3"
      },
      "execution_count": 6,
      "outputs": [
        {
          "output_type": "stream",
          "name": "stdout",
          "text": [
            "\n",
            "Hello welcome to my Queendom. I am Pricess Isha Agarwal, the most beloved princess in the world. Today I am learning a new skill which is NLP.\n",
            "\n"
          ]
        }
      ]
    },
    {
      "cell_type": "code",
      "source": [
        "# Tokenisation\n",
        "# sentence -> paragraph\n",
        "\n",
        "from nltk.tokenize import sent_tokenize"
      ],
      "metadata": {
        "id": "XFBT7O90IqLm"
      },
      "execution_count": 23,
      "outputs": []
    },
    {
      "cell_type": "code",
      "source": [
        "import nltk\n",
        "nltk.download('punkt_tab')"
      ],
      "metadata": {
        "colab": {
          "base_uri": "https://localhost:8080/"
        },
        "id": "fn9jU3CvJqll",
        "outputId": "1c8b74d1-150d-450f-fa54-6e0f9f3ac8a1"
      },
      "execution_count": 11,
      "outputs": [
        {
          "output_type": "stream",
          "name": "stderr",
          "text": [
            "[nltk_data] Downloading package punkt_tab to /root/nltk_data...\n",
            "[nltk_data]   Unzipping tokenizers/punkt_tab.zip.\n"
          ]
        },
        {
          "output_type": "execute_result",
          "data": {
            "text/plain": [
              "True"
            ]
          },
          "metadata": {},
          "execution_count": 11
        }
      ]
    },
    {
      "cell_type": "code",
      "source": [
        "sentences = sent_tokenize(corpus) # ., !, ?"
      ],
      "metadata": {
        "id": "9u_QFGR3JTgl"
      },
      "execution_count": 24,
      "outputs": []
    },
    {
      "cell_type": "code",
      "source": [
        "sentences"
      ],
      "metadata": {
        "colab": {
          "base_uri": "https://localhost:8080/"
        },
        "id": "OQliEQOVJTig",
        "outputId": "50e2bb54-076e-4005-93c0-1d7d219f94ec"
      },
      "execution_count": 13,
      "outputs": [
        {
          "output_type": "execute_result",
          "data": {
            "text/plain": [
              "['\\nHello welcome to my Queendom.',\n",
              " 'I am Pricess Isha Agarwal, the most beloved princess in the world.',\n",
              " 'Today I am learning a new skill which is NLP.']"
            ]
          },
          "metadata": {},
          "execution_count": 13
        }
      ]
    },
    {
      "cell_type": "code",
      "source": [
        "type(sentences)"
      ],
      "metadata": {
        "colab": {
          "base_uri": "https://localhost:8080/"
        },
        "id": "rNFgYJvrJTls",
        "outputId": "ebb71d92-895d-4864-88fd-6e7c3c4e1f76"
      },
      "execution_count": 14,
      "outputs": [
        {
          "output_type": "execute_result",
          "data": {
            "text/plain": [
              "list"
            ]
          },
          "metadata": {},
          "execution_count": 14
        }
      ]
    },
    {
      "cell_type": "code",
      "source": [
        "# Tokenisation\n",
        "## Paragraph -> words\n",
        "from nltk.tokenize import word_tokenize\n"
      ],
      "metadata": {
        "id": "aQjXnSS7JTnd"
      },
      "execution_count": 16,
      "outputs": []
    },
    {
      "cell_type": "code",
      "source": [
        "words = word_tokenize(corpus)"
      ],
      "metadata": {
        "id": "ZRUjOrt_JTqm"
      },
      "execution_count": 25,
      "outputs": []
    },
    {
      "cell_type": "code",
      "source": [
        "words"
      ],
      "metadata": {
        "colab": {
          "base_uri": "https://localhost:8080/"
        },
        "id": "WYflbA85JTs-",
        "outputId": "a9455f0d-a94f-4c42-9c28-d3f8848c3a90"
      },
      "execution_count": 26,
      "outputs": [
        {
          "output_type": "execute_result",
          "data": {
            "text/plain": [
              "['Hello',\n",
              " ',',\n",
              " 'welcome',\n",
              " 'to',\n",
              " 'my',\n",
              " 'Queendom',\n",
              " '!',\n",
              " 'I',\n",
              " 'am',\n",
              " 'Pricess',\n",
              " 'Isha',\n",
              " 'Agarwal',\n",
              " ':',\n",
              " ')',\n",
              " '.',\n",
              " 'The',\n",
              " 'most',\n",
              " 'beloved',\n",
              " 'princess',\n",
              " 'in',\n",
              " 'the',\n",
              " 'world',\n",
              " '.',\n",
              " 'Today',\n",
              " 'I',\n",
              " 'am',\n",
              " 'learning',\n",
              " 'a',\n",
              " 'new',\n",
              " 'skill',\n",
              " 'which',\n",
              " 'is',\n",
              " 'NLP',\n",
              " '.',\n",
              " 'Do',\n",
              " 'you',\n",
              " 'want',\n",
              " 'to',\n",
              " 'learn',\n",
              " 'with',\n",
              " 'me',\n",
              " '?']"
            ]
          },
          "metadata": {},
          "execution_count": 26
        }
      ]
    },
    {
      "cell_type": "code",
      "source": [
        "## word punct tokenise\n",
        "from nltk.tokenize import WordPunctTokenizer"
      ],
      "metadata": {
        "id": "ydYN4VWJJTvi"
      },
      "execution_count": 19,
      "outputs": []
    },
    {
      "cell_type": "code",
      "source": [
        "word_punct_tokeniser = WordPunctTokenizer()\n",
        "word_punct_tokeniser.tokenize(corpus)"
      ],
      "metadata": {
        "colab": {
          "base_uri": "https://localhost:8080/"
        },
        "id": "dfMOFcVDKobD",
        "outputId": "e10810bf-7432-40f9-d5f1-7abd9b0f384b"
      },
      "execution_count": 27,
      "outputs": [
        {
          "output_type": "execute_result",
          "data": {
            "text/plain": [
              "['Hello',\n",
              " ',',\n",
              " 'welcome',\n",
              " 'to',\n",
              " 'my',\n",
              " 'Queendom',\n",
              " '!',\n",
              " 'I',\n",
              " 'am',\n",
              " 'Pricess',\n",
              " 'Isha',\n",
              " 'Agarwal',\n",
              " ':).',\n",
              " 'The',\n",
              " 'most',\n",
              " 'beloved',\n",
              " 'princess',\n",
              " 'in',\n",
              " 'the',\n",
              " 'world',\n",
              " '.',\n",
              " 'Today',\n",
              " 'I',\n",
              " 'am',\n",
              " 'learning',\n",
              " 'a',\n",
              " 'new',\n",
              " 'skill',\n",
              " 'which',\n",
              " 'is',\n",
              " 'NLP',\n",
              " '.',\n",
              " 'Do',\n",
              " 'you',\n",
              " 'want',\n",
              " 'to',\n",
              " 'learn',\n",
              " 'with',\n",
              " 'me',\n",
              " '?']"
            ]
          },
          "metadata": {},
          "execution_count": 27
        }
      ]
    },
    {
      "cell_type": "code",
      "source": [
        "## tree bank tokeniser\n",
        "from nltk.tokenize import TreebankWordTokenizer\n",
        "treebank_tokeniser = TreebankWordTokenizer()\n",
        "treebank_tokeniser.tokenize(corpus)"
      ],
      "metadata": {
        "colab": {
          "base_uri": "https://localhost:8080/"
        },
        "id": "PqVFe7WgKoZE",
        "outputId": "d24e3ebd-e862-4044-b754-6fa426b101b1"
      },
      "execution_count": 28,
      "outputs": [
        {
          "output_type": "execute_result",
          "data": {
            "text/plain": [
              "['Hello',\n",
              " ',',\n",
              " 'welcome',\n",
              " 'to',\n",
              " 'my',\n",
              " 'Queendom',\n",
              " '!',\n",
              " 'I',\n",
              " 'am',\n",
              " 'Pricess',\n",
              " 'Isha',\n",
              " 'Agarwal',\n",
              " ':',\n",
              " ')',\n",
              " '.',\n",
              " 'The',\n",
              " 'most',\n",
              " 'beloved',\n",
              " 'princess',\n",
              " 'in',\n",
              " 'the',\n",
              " 'world.',\n",
              " 'Today',\n",
              " 'I',\n",
              " 'am',\n",
              " 'learning',\n",
              " 'a',\n",
              " 'new',\n",
              " 'skill',\n",
              " 'which',\n",
              " 'is',\n",
              " 'NLP.',\n",
              " 'Do',\n",
              " 'you',\n",
              " 'want',\n",
              " 'to',\n",
              " 'learn',\n",
              " 'with',\n",
              " 'me',\n",
              " '?']"
            ]
          },
          "metadata": {},
          "execution_count": 28
        }
      ]
    },
    {
      "cell_type": "code",
      "source": [
        "words = ['programming', 'programm', 'eaten', 'eating', 'eats', 'eat', 'go', 'going', 'gone']"
      ],
      "metadata": {
        "id": "cP9k5Zy6KoW4"
      },
      "execution_count": 29,
      "outputs": []
    },
    {
      "cell_type": "code",
      "source": [
        "## Stemming technique -> porterstemming\n",
        "from nltk.stem import PorterStemmer\n",
        "stemmer = PorterStemmer()"
      ],
      "metadata": {
        "id": "HErNEdwtKoTp"
      },
      "execution_count": 30,
      "outputs": []
    },
    {
      "cell_type": "code",
      "source": [
        "for word in words:\n",
        "  print(word + \"----->\" + stemmer.stem(word))"
      ],
      "metadata": {
        "colab": {
          "base_uri": "https://localhost:8080/"
        },
        "id": "1kZJ1U7WKoQz",
        "outputId": "de674528-ce41-4e18-a118-f85b54a6e672"
      },
      "execution_count": 31,
      "outputs": [
        {
          "output_type": "stream",
          "name": "stdout",
          "text": [
            "programming----->program\n",
            "programm----->programm\n",
            "eaten----->eaten\n",
            "eating----->eat\n",
            "eats----->eat\n",
            "eat----->eat\n",
            "go----->go\n",
            "going----->go\n",
            "gone----->gone\n"
          ]
        }
      ]
    },
    {
      "cell_type": "code",
      "source": [
        "## Regexpstemmer\n",
        "from nltk.stem import RegexpStemmer\n",
        "reg_stemmer = RegexpStemmer('ing|e$|able$', min=4)"
      ],
      "metadata": {
        "id": "HWrq0afpKoO2"
      },
      "execution_count": 36,
      "outputs": []
    },
    {
      "cell_type": "code",
      "source": [
        "reg_stemmer.stem('ingeating')"
      ],
      "metadata": {
        "colab": {
          "base_uri": "https://localhost:8080/",
          "height": 35
        },
        "id": "S4MQNk9yKoLx",
        "outputId": "bf962029-6bd6-48aa-bc12-b5cfb7d20150"
      },
      "execution_count": 37,
      "outputs": [
        {
          "output_type": "execute_result",
          "data": {
            "text/plain": [
              "'eat'"
            ],
            "application/vnd.google.colaboratory.intrinsic+json": {
              "type": "string"
            }
          },
          "metadata": {},
          "execution_count": 37
        }
      ]
    },
    {
      "cell_type": "code",
      "source": [
        "## snowball stemmer\n",
        "from nltk.stem import SnowballStemmer\n",
        "snow_stemmer = SnowballStemmer(language='english')"
      ],
      "metadata": {
        "id": "-0LAEis5KoJv"
      },
      "execution_count": 38,
      "outputs": []
    },
    {
      "cell_type": "code",
      "source": [
        "words.append('fairly')\n",
        "words.append('sportingly')\n",
        "for word in words:\n",
        "  print(word + \"------->\" + snow_stemmer.stem(word))"
      ],
      "metadata": {
        "colab": {
          "base_uri": "https://localhost:8080/"
        },
        "id": "D5WeEM_oKoGA",
        "outputId": "ff83307b-310b-447f-fb61-02c35be2b223"
      },
      "execution_count": 40,
      "outputs": [
        {
          "output_type": "stream",
          "name": "stdout",
          "text": [
            "programming------->program\n",
            "programm------->programm\n",
            "eaten------->eaten\n",
            "eating------->eat\n",
            "eats------->eat\n",
            "eat------->eat\n",
            "go------->go\n",
            "going------->go\n",
            "gone------->gone\n",
            "fairly------->fair\n",
            "sportingly------->sport\n"
          ]
        }
      ]
    },
    {
      "cell_type": "markdown",
      "source": [
        "## Lemmatization"
      ],
      "metadata": {
        "id": "0HyItcwyTEkI"
      }
    },
    {
      "cell_type": "code",
      "source": [
        "# wordnet lemmetizer\n",
        "from nltk.stem import WordNetLemmatizer\n",
        "lemmatizer = WordNetLemmatizer()"
      ],
      "metadata": {
        "id": "f6cU8ESpKoD_"
      },
      "execution_count": 41,
      "outputs": []
    },
    {
      "cell_type": "code",
      "source": [
        "import nltk\n",
        "nltk.download('wordnet')"
      ],
      "metadata": {
        "colab": {
          "base_uri": "https://localhost:8080/"
        },
        "id": "aFAp4ODYTp9W",
        "outputId": "37df8446-7d55-43e6-f3a9-57c207be60f4"
      },
      "execution_count": 43,
      "outputs": [
        {
          "output_type": "stream",
          "name": "stderr",
          "text": [
            "[nltk_data] Downloading package wordnet to /root/nltk_data...\n"
          ]
        },
        {
          "output_type": "execute_result",
          "data": {
            "text/plain": [
              "True"
            ]
          },
          "metadata": {},
          "execution_count": 43
        }
      ]
    },
    {
      "cell_type": "markdown",
      "source": [
        "####  POS tag:\n",
        "####  Noun -> n\n",
        "####  Verb -> v\n",
        "####  Adverb -> r\n",
        "####  Adjective -> a"
      ],
      "metadata": {
        "id": "4p3qWd34URZ4"
      }
    },
    {
      "cell_type": "code",
      "source": [
        "lemmatizer.lemmatize('going', 'v')"
      ],
      "metadata": {
        "colab": {
          "base_uri": "https://localhost:8080/",
          "height": 35
        },
        "id": "uo4n6ywxKn_7",
        "outputId": "afa7b0de-7a7e-4cf0-9984-43a590ff60b3"
      },
      "execution_count": 47,
      "outputs": [
        {
          "output_type": "execute_result",
          "data": {
            "text/plain": [
              "'go'"
            ],
            "application/vnd.google.colaboratory.intrinsic+json": {
              "type": "string"
            }
          },
          "metadata": {},
          "execution_count": 47
        }
      ]
    },
    {
      "cell_type": "code",
      "source": [
        "for word in words:\n",
        "  print(word + \"------->\" + lemmatizer.lemmatize(word, 'v'))"
      ],
      "metadata": {
        "colab": {
          "base_uri": "https://localhost:8080/"
        },
        "id": "shJd3wFpKn9_",
        "outputId": "981e2d96-81ef-433f-d502-28cf42499bcd"
      },
      "execution_count": 52,
      "outputs": [
        {
          "output_type": "stream",
          "name": "stdout",
          "text": [
            "programming------->program\n",
            "programm------->programm\n",
            "eaten------->eat\n",
            "eating------->eat\n",
            "eats------->eat\n",
            "eat------->eat\n",
            "go------->go\n",
            "going------->go\n",
            "gone------->go\n",
            "fairly------->fairly\n",
            "sportingly------->sportingly\n"
          ]
        }
      ]
    },
    {
      "cell_type": "markdown",
      "source": [
        "# Stopwords"
      ],
      "metadata": {
        "id": "SRYurxuWV5_A"
      }
    },
    {
      "cell_type": "code",
      "source": [
        "paragraph = \"\"\"\"\n",
        "Dream, dream, dream. Dreams transform into thoughts and thoughts result in action.\n",
        "\n",
        "You have to dream before your dreams can come true.\n",
        "\n",
        "If you want to shine like a sun, first burn like a sun.\n",
        "\n",
        "Excellence is a continuous process and not an accident.\n",
        "\n",
        "Look at the sky. We are not alone. The whole universe is friendly to us and conspires only to give the best of those who dream and work.\n",
        "\n",
        "\"\"\""
      ],
      "metadata": {
        "id": "35GqFigZJTxZ"
      },
      "execution_count": 53,
      "outputs": []
    },
    {
      "cell_type": "markdown",
      "metadata": {
        "id": "118f763f"
      },
      "source": []
    },
    {
      "cell_type": "code",
      "source": [
        "## stopwords\n",
        "from nltk.corpus import stopwords\n",
        "## porter stemmer\n",
        "from nltk.stem import PorterStemmer\n",
        "import nltk\n",
        "nltk.download('stopwords')"
      ],
      "metadata": {
        "colab": {
          "base_uri": "https://localhost:8080/"
        },
        "id": "7VbZJlX0JT0e",
        "outputId": "16695c6b-7f94-4adc-aed5-93d7a088e451"
      },
      "execution_count": 54,
      "outputs": [
        {
          "output_type": "stream",
          "name": "stderr",
          "text": [
            "[nltk_data] Downloading package stopwords to /root/nltk_data...\n",
            "[nltk_data]   Unzipping corpora/stopwords.zip.\n"
          ]
        },
        {
          "output_type": "execute_result",
          "data": {
            "text/plain": [
              "True"
            ]
          },
          "metadata": {},
          "execution_count": 54
        }
      ]
    },
    {
      "cell_type": "code",
      "source": [
        "stopwords.words('english')"
      ],
      "metadata": {
        "colab": {
          "base_uri": "https://localhost:8080/"
        },
        "id": "CPOJIOMhJT2V",
        "outputId": "72650dce-35c2-4aaf-f112-29c7a242761c"
      },
      "execution_count": 55,
      "outputs": [
        {
          "output_type": "execute_result",
          "data": {
            "text/plain": [
              "['a',\n",
              " 'about',\n",
              " 'above',\n",
              " 'after',\n",
              " 'again',\n",
              " 'against',\n",
              " 'ain',\n",
              " 'all',\n",
              " 'am',\n",
              " 'an',\n",
              " 'and',\n",
              " 'any',\n",
              " 'are',\n",
              " 'aren',\n",
              " \"aren't\",\n",
              " 'as',\n",
              " 'at',\n",
              " 'be',\n",
              " 'because',\n",
              " 'been',\n",
              " 'before',\n",
              " 'being',\n",
              " 'below',\n",
              " 'between',\n",
              " 'both',\n",
              " 'but',\n",
              " 'by',\n",
              " 'can',\n",
              " 'couldn',\n",
              " \"couldn't\",\n",
              " 'd',\n",
              " 'did',\n",
              " 'didn',\n",
              " \"didn't\",\n",
              " 'do',\n",
              " 'does',\n",
              " 'doesn',\n",
              " \"doesn't\",\n",
              " 'doing',\n",
              " 'don',\n",
              " \"don't\",\n",
              " 'down',\n",
              " 'during',\n",
              " 'each',\n",
              " 'few',\n",
              " 'for',\n",
              " 'from',\n",
              " 'further',\n",
              " 'had',\n",
              " 'hadn',\n",
              " \"hadn't\",\n",
              " 'has',\n",
              " 'hasn',\n",
              " \"hasn't\",\n",
              " 'have',\n",
              " 'haven',\n",
              " \"haven't\",\n",
              " 'having',\n",
              " 'he',\n",
              " \"he'd\",\n",
              " \"he'll\",\n",
              " 'her',\n",
              " 'here',\n",
              " 'hers',\n",
              " 'herself',\n",
              " \"he's\",\n",
              " 'him',\n",
              " 'himself',\n",
              " 'his',\n",
              " 'how',\n",
              " 'i',\n",
              " \"i'd\",\n",
              " 'if',\n",
              " \"i'll\",\n",
              " \"i'm\",\n",
              " 'in',\n",
              " 'into',\n",
              " 'is',\n",
              " 'isn',\n",
              " \"isn't\",\n",
              " 'it',\n",
              " \"it'd\",\n",
              " \"it'll\",\n",
              " \"it's\",\n",
              " 'its',\n",
              " 'itself',\n",
              " \"i've\",\n",
              " 'just',\n",
              " 'll',\n",
              " 'm',\n",
              " 'ma',\n",
              " 'me',\n",
              " 'mightn',\n",
              " \"mightn't\",\n",
              " 'more',\n",
              " 'most',\n",
              " 'mustn',\n",
              " \"mustn't\",\n",
              " 'my',\n",
              " 'myself',\n",
              " 'needn',\n",
              " \"needn't\",\n",
              " 'no',\n",
              " 'nor',\n",
              " 'not',\n",
              " 'now',\n",
              " 'o',\n",
              " 'of',\n",
              " 'off',\n",
              " 'on',\n",
              " 'once',\n",
              " 'only',\n",
              " 'or',\n",
              " 'other',\n",
              " 'our',\n",
              " 'ours',\n",
              " 'ourselves',\n",
              " 'out',\n",
              " 'over',\n",
              " 'own',\n",
              " 're',\n",
              " 's',\n",
              " 'same',\n",
              " 'shan',\n",
              " \"shan't\",\n",
              " 'she',\n",
              " \"she'd\",\n",
              " \"she'll\",\n",
              " \"she's\",\n",
              " 'should',\n",
              " 'shouldn',\n",
              " \"shouldn't\",\n",
              " \"should've\",\n",
              " 'so',\n",
              " 'some',\n",
              " 'such',\n",
              " 't',\n",
              " 'than',\n",
              " 'that',\n",
              " \"that'll\",\n",
              " 'the',\n",
              " 'their',\n",
              " 'theirs',\n",
              " 'them',\n",
              " 'themselves',\n",
              " 'then',\n",
              " 'there',\n",
              " 'these',\n",
              " 'they',\n",
              " \"they'd\",\n",
              " \"they'll\",\n",
              " \"they're\",\n",
              " \"they've\",\n",
              " 'this',\n",
              " 'those',\n",
              " 'through',\n",
              " 'to',\n",
              " 'too',\n",
              " 'under',\n",
              " 'until',\n",
              " 'up',\n",
              " 've',\n",
              " 'very',\n",
              " 'was',\n",
              " 'wasn',\n",
              " \"wasn't\",\n",
              " 'we',\n",
              " \"we'd\",\n",
              " \"we'll\",\n",
              " \"we're\",\n",
              " 'were',\n",
              " 'weren',\n",
              " \"weren't\",\n",
              " \"we've\",\n",
              " 'what',\n",
              " 'when',\n",
              " 'where',\n",
              " 'which',\n",
              " 'while',\n",
              " 'who',\n",
              " 'whom',\n",
              " 'why',\n",
              " 'will',\n",
              " 'with',\n",
              " 'won',\n",
              " \"won't\",\n",
              " 'wouldn',\n",
              " \"wouldn't\",\n",
              " 'y',\n",
              " 'you',\n",
              " \"you'd\",\n",
              " \"you'll\",\n",
              " 'your',\n",
              " \"you're\",\n",
              " 'yours',\n",
              " 'yourself',\n",
              " 'yourselves',\n",
              " \"you've\"]"
            ]
          },
          "metadata": {},
          "execution_count": 55
        }
      ]
    },
    {
      "cell_type": "code",
      "source": [
        "stemmer = PorterStemmer()\n",
        "_sentences = nltk.sent_tokenize(paragraph)"
      ],
      "metadata": {
        "id": "CcM4nhQXJT6z"
      },
      "execution_count": 64,
      "outputs": []
    },
    {
      "cell_type": "code",
      "source": [
        "## Apply stopwords and filter and then apply stemming\n",
        "for i in range(len(_sentences)):\n",
        "  words = nltk.word_tokenize(_sentences[i])\n",
        "  words = [stemmer.stem(word) for word in words if word not in set(stopwords.words('english'))]\n",
        "  sentences = ' '.join(words)\n",
        "  print(sentences)"
      ],
      "metadata": {
        "colab": {
          "base_uri": "https://localhost:8080/"
        },
        "id": "hxzuVbmOIqNY",
        "outputId": "910f7664-8597-4ce2-f03d-ecacc36ea08c"
      },
      "execution_count": 65,
      "outputs": [
        {
          "output_type": "stream",
          "name": "stdout",
          "text": [
            "`` dream , dream , dream .\n",
            "dream transform thought thought result action .\n",
            "you dream dream come true .\n",
            "if want shine like sun , first burn like sun .\n",
            "excel continu process accid .\n",
            "look sky .\n",
            "we alon .\n",
            "the whole univers friendli us conspir give best dream work .\n"
          ]
        }
      ]
    },
    {
      "cell_type": "code",
      "source": [
        "## Apply stopwords and filter and then apply stemming\n",
        "for i in range(len(_sentences)):\n",
        "  words = nltk.word_tokenize(_sentences[i])\n",
        "  words = [snow_stemmer.stem(word) for word in words if word not in set(stopwords.words('english'))]\n",
        "  sentences = ' '.join(words)\n",
        "  print(sentences)"
      ],
      "metadata": {
        "colab": {
          "base_uri": "https://localhost:8080/"
        },
        "id": "F2xt6yCOXSve",
        "outputId": "c36bbf2f-71d3-4b85-978b-c91f7c0188b7"
      },
      "execution_count": 66,
      "outputs": [
        {
          "output_type": "stream",
          "name": "stdout",
          "text": [
            "`` dream , dream , dream .\n",
            "dream transform thought thought result action .\n",
            "you dream dream come true .\n",
            "if want shine like sun , first burn like sun .\n",
            "excel continu process accid .\n",
            "look sky .\n",
            "we alon .\n",
            "the whole univers friend us conspir give best dream work .\n"
          ]
        }
      ]
    },
    {
      "cell_type": "code",
      "source": [],
      "metadata": {
        "id": "dCyXm_BiXStY"
      },
      "execution_count": null,
      "outputs": []
    },
    {
      "cell_type": "code",
      "source": [],
      "metadata": {
        "id": "wkc5jemsXSqk"
      },
      "execution_count": null,
      "outputs": []
    },
    {
      "cell_type": "code",
      "source": [],
      "metadata": {
        "id": "z6MN5NqBXSoX"
      },
      "execution_count": null,
      "outputs": []
    },
    {
      "cell_type": "code",
      "source": [],
      "metadata": {
        "id": "HiQm3uHRXSlY"
      },
      "execution_count": null,
      "outputs": []
    },
    {
      "cell_type": "code",
      "source": [],
      "metadata": {
        "id": "lgDy7aaEXSjT"
      },
      "execution_count": null,
      "outputs": []
    },
    {
      "cell_type": "code",
      "source": [],
      "metadata": {
        "id": "30eGndPOXSgw"
      },
      "execution_count": null,
      "outputs": []
    },
    {
      "cell_type": "code",
      "source": [],
      "metadata": {
        "id": "L_yn7GRQXSes"
      },
      "execution_count": null,
      "outputs": []
    },
    {
      "cell_type": "code",
      "source": [],
      "metadata": {
        "id": "QX0c2Sq0XScT"
      },
      "execution_count": null,
      "outputs": []
    },
    {
      "cell_type": "code",
      "source": [],
      "metadata": {
        "id": "qV96oCmWXSZ0"
      },
      "execution_count": null,
      "outputs": []
    }
  ]
}
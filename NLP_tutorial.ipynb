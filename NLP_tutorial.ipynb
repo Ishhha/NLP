{
  "nbformat": 4,
  "nbformat_minor": 0,
  "metadata": {
    "colab": {
      "provenance": [],
      "authorship_tag": "ABX9TyO4ig4S7+vDrSrVHrkRdUol",
      "include_colab_link": true
    },
    "kernelspec": {
      "name": "python3",
      "display_name": "Python 3"
    },
    "language_info": {
      "name": "python"
    }
  },
  "cells": [
    {
      "cell_type": "markdown",
      "metadata": {
        "id": "view-in-github",
        "colab_type": "text"
      },
      "source": [
        "<a href=\"https://colab.research.google.com/github/Ishhha/NLP/blob/main/NLP_tutorial.ipynb\" target=\"_parent\"><img src=\"https://colab.research.google.com/assets/colab-badge.svg\" alt=\"Open In Colab\"/></a>"
      ]
    },
    {
      "cell_type": "code",
      "execution_count": 1,
      "metadata": {
        "colab": {
          "base_uri": "https://localhost:8080/"
        },
        "id": "prwS6NJTIQyu",
        "outputId": "d47508d5-a0ee-4fef-f9db-732332a55842"
      },
      "outputs": [
        {
          "output_type": "stream",
          "name": "stdout",
          "text": [
            "Requirement already satisfied: nltk in /usr/local/lib/python3.12/dist-packages (3.9.1)\n",
            "Requirement already satisfied: click in /usr/local/lib/python3.12/dist-packages (from nltk) (8.3.0)\n",
            "Requirement already satisfied: joblib in /usr/local/lib/python3.12/dist-packages (from nltk) (1.5.2)\n",
            "Requirement already satisfied: regex>=2021.8.3 in /usr/local/lib/python3.12/dist-packages (from nltk) (2024.11.6)\n",
            "Requirement already satisfied: tqdm in /usr/local/lib/python3.12/dist-packages (from nltk) (4.67.1)\n"
          ]
        }
      ],
      "source": [
        "!pip install nltk"
      ]
    },
    {
      "cell_type": "code",
      "source": [
        "corpus = \"\"\"\n",
        "Hello, welcome to my Queendom! I am Pricess Isha Agarwal :). The most beloved princess in the world. Today I am learning a new skill which is NLP. Do you want to learn with me?\n",
        "\"\"\""
      ],
      "metadata": {
        "id": "K27eZ_bVIpw2"
      },
      "execution_count": 22,
      "outputs": []
    },
    {
      "cell_type": "code",
      "source": [
        "print(corpus)"
      ],
      "metadata": {
        "colab": {
          "base_uri": "https://localhost:8080/"
        },
        "id": "CAtxtFojIqBk",
        "outputId": "a71edb6b-480e-4c3d-fa4d-03046a4398e3"
      },
      "execution_count": 6,
      "outputs": [
        {
          "output_type": "stream",
          "name": "stdout",
          "text": [
            "\n",
            "Hello welcome to my Queendom. I am Pricess Isha Agarwal, the most beloved princess in the world. Today I am learning a new skill which is NLP.\n",
            "\n"
          ]
        }
      ]
    },
    {
      "cell_type": "code",
      "source": [
        "# Tokenisation\n",
        "# sentence -> paragraph\n",
        "\n",
        "from nltk.tokenize import sent_tokenize"
      ],
      "metadata": {
        "id": "XFBT7O90IqLm"
      },
      "execution_count": 23,
      "outputs": []
    },
    {
      "cell_type": "code",
      "source": [
        "import nltk\n",
        "nltk.download('punkt_tab')"
      ],
      "metadata": {
        "colab": {
          "base_uri": "https://localhost:8080/"
        },
        "id": "fn9jU3CvJqll",
        "outputId": "1c8b74d1-150d-450f-fa54-6e0f9f3ac8a1"
      },
      "execution_count": 11,
      "outputs": [
        {
          "output_type": "stream",
          "name": "stderr",
          "text": [
            "[nltk_data] Downloading package punkt_tab to /root/nltk_data...\n",
            "[nltk_data]   Unzipping tokenizers/punkt_tab.zip.\n"
          ]
        },
        {
          "output_type": "execute_result",
          "data": {
            "text/plain": [
              "True"
            ]
          },
          "metadata": {},
          "execution_count": 11
        }
      ]
    },
    {
      "cell_type": "code",
      "source": [
        "sentences = sent_tokenize(corpus) # ., !, ?"
      ],
      "metadata": {
        "id": "9u_QFGR3JTgl"
      },
      "execution_count": 24,
      "outputs": []
    },
    {
      "cell_type": "code",
      "source": [
        "sentences"
      ],
      "metadata": {
        "colab": {
          "base_uri": "https://localhost:8080/"
        },
        "id": "OQliEQOVJTig",
        "outputId": "50e2bb54-076e-4005-93c0-1d7d219f94ec"
      },
      "execution_count": 13,
      "outputs": [
        {
          "output_type": "execute_result",
          "data": {
            "text/plain": [
              "['\\nHello welcome to my Queendom.',\n",
              " 'I am Pricess Isha Agarwal, the most beloved princess in the world.',\n",
              " 'Today I am learning a new skill which is NLP.']"
            ]
          },
          "metadata": {},
          "execution_count": 13
        }
      ]
    },
    {
      "cell_type": "code",
      "source": [
        "type(sentences)"
      ],
      "metadata": {
        "colab": {
          "base_uri": "https://localhost:8080/"
        },
        "id": "rNFgYJvrJTls",
        "outputId": "ebb71d92-895d-4864-88fd-6e7c3c4e1f76"
      },
      "execution_count": 14,
      "outputs": [
        {
          "output_type": "execute_result",
          "data": {
            "text/plain": [
              "list"
            ]
          },
          "metadata": {},
          "execution_count": 14
        }
      ]
    },
    {
      "cell_type": "code",
      "source": [
        "# Tokenisation\n",
        "## Paragraph -> words\n",
        "from nltk.tokenize import word_tokenize\n"
      ],
      "metadata": {
        "id": "aQjXnSS7JTnd"
      },
      "execution_count": 16,
      "outputs": []
    },
    {
      "cell_type": "code",
      "source": [
        "words = word_tokenize(corpus)"
      ],
      "metadata": {
        "id": "ZRUjOrt_JTqm"
      },
      "execution_count": 25,
      "outputs": []
    },
    {
      "cell_type": "code",
      "source": [
        "words"
      ],
      "metadata": {
        "colab": {
          "base_uri": "https://localhost:8080/"
        },
        "id": "WYflbA85JTs-",
        "outputId": "a9455f0d-a94f-4c42-9c28-d3f8848c3a90"
      },
      "execution_count": 26,
      "outputs": [
        {
          "output_type": "execute_result",
          "data": {
            "text/plain": [
              "['Hello',\n",
              " ',',\n",
              " 'welcome',\n",
              " 'to',\n",
              " 'my',\n",
              " 'Queendom',\n",
              " '!',\n",
              " 'I',\n",
              " 'am',\n",
              " 'Pricess',\n",
              " 'Isha',\n",
              " 'Agarwal',\n",
              " ':',\n",
              " ')',\n",
              " '.',\n",
              " 'The',\n",
              " 'most',\n",
              " 'beloved',\n",
              " 'princess',\n",
              " 'in',\n",
              " 'the',\n",
              " 'world',\n",
              " '.',\n",
              " 'Today',\n",
              " 'I',\n",
              " 'am',\n",
              " 'learning',\n",
              " 'a',\n",
              " 'new',\n",
              " 'skill',\n",
              " 'which',\n",
              " 'is',\n",
              " 'NLP',\n",
              " '.',\n",
              " 'Do',\n",
              " 'you',\n",
              " 'want',\n",
              " 'to',\n",
              " 'learn',\n",
              " 'with',\n",
              " 'me',\n",
              " '?']"
            ]
          },
          "metadata": {},
          "execution_count": 26
        }
      ]
    },
    {
      "cell_type": "code",
      "source": [
        "## word punct tokenise\n",
        "from nltk.tokenize import WordPunctTokenizer"
      ],
      "metadata": {
        "id": "ydYN4VWJJTvi"
      },
      "execution_count": 19,
      "outputs": []
    },
    {
      "cell_type": "code",
      "source": [
        "word_punct_tokeniser = WordPunctTokenizer()\n",
        "word_punct_tokeniser.tokenize(corpus)"
      ],
      "metadata": {
        "colab": {
          "base_uri": "https://localhost:8080/"
        },
        "id": "dfMOFcVDKobD",
        "outputId": "e10810bf-7432-40f9-d5f1-7abd9b0f384b"
      },
      "execution_count": 27,
      "outputs": [
        {
          "output_type": "execute_result",
          "data": {
            "text/plain": [
              "['Hello',\n",
              " ',',\n",
              " 'welcome',\n",
              " 'to',\n",
              " 'my',\n",
              " 'Queendom',\n",
              " '!',\n",
              " 'I',\n",
              " 'am',\n",
              " 'Pricess',\n",
              " 'Isha',\n",
              " 'Agarwal',\n",
              " ':).',\n",
              " 'The',\n",
              " 'most',\n",
              " 'beloved',\n",
              " 'princess',\n",
              " 'in',\n",
              " 'the',\n",
              " 'world',\n",
              " '.',\n",
              " 'Today',\n",
              " 'I',\n",
              " 'am',\n",
              " 'learning',\n",
              " 'a',\n",
              " 'new',\n",
              " 'skill',\n",
              " 'which',\n",
              " 'is',\n",
              " 'NLP',\n",
              " '.',\n",
              " 'Do',\n",
              " 'you',\n",
              " 'want',\n",
              " 'to',\n",
              " 'learn',\n",
              " 'with',\n",
              " 'me',\n",
              " '?']"
            ]
          },
          "metadata": {},
          "execution_count": 27
        }
      ]
    },
    {
      "cell_type": "code",
      "source": [
        "## tree bank tokeniser\n",
        "from nltk.tokenize import TreebankWordTokenizer\n",
        "treebank_tokeniser = TreebankWordTokenizer()\n",
        "treebank_tokeniser.tokenize(corpus)"
      ],
      "metadata": {
        "colab": {
          "base_uri": "https://localhost:8080/"
        },
        "id": "PqVFe7WgKoZE",
        "outputId": "d24e3ebd-e862-4044-b754-6fa426b101b1"
      },
      "execution_count": 28,
      "outputs": [
        {
          "output_type": "execute_result",
          "data": {
            "text/plain": [
              "['Hello',\n",
              " ',',\n",
              " 'welcome',\n",
              " 'to',\n",
              " 'my',\n",
              " 'Queendom',\n",
              " '!',\n",
              " 'I',\n",
              " 'am',\n",
              " 'Pricess',\n",
              " 'Isha',\n",
              " 'Agarwal',\n",
              " ':',\n",
              " ')',\n",
              " '.',\n",
              " 'The',\n",
              " 'most',\n",
              " 'beloved',\n",
              " 'princess',\n",
              " 'in',\n",
              " 'the',\n",
              " 'world.',\n",
              " 'Today',\n",
              " 'I',\n",
              " 'am',\n",
              " 'learning',\n",
              " 'a',\n",
              " 'new',\n",
              " 'skill',\n",
              " 'which',\n",
              " 'is',\n",
              " 'NLP.',\n",
              " 'Do',\n",
              " 'you',\n",
              " 'want',\n",
              " 'to',\n",
              " 'learn',\n",
              " 'with',\n",
              " 'me',\n",
              " '?']"
            ]
          },
          "metadata": {},
          "execution_count": 28
        }
      ]
    },
    {
      "cell_type": "code",
      "source": [
        "words = ['programming', 'programm', 'eaten', 'eating', 'eats', 'eat', 'go', 'going', 'gone']"
      ],
      "metadata": {
        "id": "cP9k5Zy6KoW4"
      },
      "execution_count": 29,
      "outputs": []
    },
    {
      "cell_type": "code",
      "source": [
        "## Stemming technique -> porterstemming\n",
        "from nltk.stem import PorterStemmer\n",
        "stemmer = PorterStemmer()"
      ],
      "metadata": {
        "id": "HErNEdwtKoTp"
      },
      "execution_count": 30,
      "outputs": []
    },
    {
      "cell_type": "code",
      "source": [
        "for word in words:\n",
        "  print(word + \"----->\" + stemmer.stem(word))"
      ],
      "metadata": {
        "colab": {
          "base_uri": "https://localhost:8080/"
        },
        "id": "1kZJ1U7WKoQz",
        "outputId": "de674528-ce41-4e18-a118-f85b54a6e672"
      },
      "execution_count": 31,
      "outputs": [
        {
          "output_type": "stream",
          "name": "stdout",
          "text": [
            "programming----->program\n",
            "programm----->programm\n",
            "eaten----->eaten\n",
            "eating----->eat\n",
            "eats----->eat\n",
            "eat----->eat\n",
            "go----->go\n",
            "going----->go\n",
            "gone----->gone\n"
          ]
        }
      ]
    },
    {
      "cell_type": "code",
      "source": [
        "## Regexpstemmer\n",
        "from nltk.stem import RegexpStemmer\n",
        "reg_stemmer = RegexpStemmer('ing|e$|able$', min=4)"
      ],
      "metadata": {
        "id": "HWrq0afpKoO2"
      },
      "execution_count": 36,
      "outputs": []
    },
    {
      "cell_type": "code",
      "source": [
        "reg_stemmer.stem('ingeating')"
      ],
      "metadata": {
        "colab": {
          "base_uri": "https://localhost:8080/",
          "height": 35
        },
        "id": "S4MQNk9yKoLx",
        "outputId": "bf962029-6bd6-48aa-bc12-b5cfb7d20150"
      },
      "execution_count": 37,
      "outputs": [
        {
          "output_type": "execute_result",
          "data": {
            "text/plain": [
              "'eat'"
            ],
            "application/vnd.google.colaboratory.intrinsic+json": {
              "type": "string"
            }
          },
          "metadata": {},
          "execution_count": 37
        }
      ]
    },
    {
      "cell_type": "code",
      "source": [
        "## snowball stemmer\n",
        "from nltk.stem import SnowballStemmer\n",
        "snow_stemmer = SnowballStemmer(language='english')"
      ],
      "metadata": {
        "id": "-0LAEis5KoJv"
      },
      "execution_count": 38,
      "outputs": []
    },
    {
      "cell_type": "code",
      "source": [],
      "metadata": {
        "id": "D5WeEM_oKoGA"
      },
      "execution_count": null,
      "outputs": []
    },
    {
      "cell_type": "code",
      "source": [],
      "metadata": {
        "id": "f6cU8ESpKoD_"
      },
      "execution_count": null,
      "outputs": []
    },
    {
      "cell_type": "code",
      "source": [],
      "metadata": {
        "id": "uo4n6ywxKn_7"
      },
      "execution_count": null,
      "outputs": []
    },
    {
      "cell_type": "code",
      "source": [],
      "metadata": {
        "id": "shJd3wFpKn9_"
      },
      "execution_count": null,
      "outputs": []
    },
    {
      "cell_type": "code",
      "source": [],
      "metadata": {
        "id": "35GqFigZJTxZ"
      },
      "execution_count": null,
      "outputs": []
    },
    {
      "cell_type": "code",
      "source": [],
      "metadata": {
        "id": "7VbZJlX0JT0e"
      },
      "execution_count": null,
      "outputs": []
    },
    {
      "cell_type": "code",
      "source": [],
      "metadata": {
        "id": "CPOJIOMhJT2V"
      },
      "execution_count": null,
      "outputs": []
    },
    {
      "cell_type": "code",
      "source": [],
      "metadata": {
        "id": "CcM4nhQXJT6z"
      },
      "execution_count": null,
      "outputs": []
    },
    {
      "cell_type": "code",
      "source": [],
      "metadata": {
        "id": "hxzuVbmOIqNY"
      },
      "execution_count": null,
      "outputs": []
    }
  ]
}